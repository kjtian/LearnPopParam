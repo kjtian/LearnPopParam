{
 "cells": [
  {
   "cell_type": "markdown",
   "metadata": {},
   "source": [
    "# Preliminaries"
   ]
  },
  {
   "cell_type": "code",
   "execution_count": 1,
   "metadata": {
    "collapsed": true
   },
   "outputs": [],
   "source": [
    "from gen_recover import *\n",
    "import matplotlib.pyplot as plt\n",
    "import math\n",
    "%matplotlib inline\n",
    "import numpy as np"
   ]
  },
  {
   "cell_type": "code",
   "execution_count": 2,
   "metadata": {
    "collapsed": true
   },
   "outputs": [],
   "source": [
    "# normalized objectives by empirical stdevs\n",
    "def experiment_histog(moments, stdevs, m):\n",
    "    k = len(moments)\n",
    "    from cvxopt import matrix, solvers\n",
    "    solvers.options['show_progress'] = False\n",
    "    A = np.zeros((m + 2 * k + 3, m + k + 1))\n",
    "    B = np.zeros(m + 2 * k + 3)\n",
    "    C = np.zeros(m + k + 1)\n",
    "    # set C (optimization)\n",
    "    for i in xrange(m + 1, m + k + 1):\n",
    "        C[i] = 1.0\n",
    "    # set B (constraints)\n",
    "    B[0] = 1.0\n",
    "    B[1] = -1.0\n",
    "    for i in xrange(k):\n",
    "        B[m + 3 + (2 * i)] = moments[i]\n",
    "        B[m + 3 + (2 * i) + 1] = -1.0 * moments[i]\n",
    "    # set A (linear coefficients)\n",
    "    for i in xrange(m + 1):\n",
    "        A[0][i] = 1.0\n",
    "        A[1][i] = -1.0\n",
    "        A[2 + i][i] = -1.0\n",
    "\n",
    "    for j in xrange(k):\n",
    "        A[m + 3 + (2 * j)][m + 1 + j] = -1.0\n",
    "        A[m + 3 + (2 * j) + 1][m + 1 + j] = -1.0\n",
    "        for i in xrange(m + 1):\n",
    "            A[m + 3 + (2 * j)][i] = (((float(i) / float(m))) ** (j + 1))\n",
    "            A[m + 3 + (2 * j) + 1][i] = (-1.0 * ((float(i) / float(m))) ** (j + 1))\n",
    "    # print A\n",
    "    G = matrix(np.ndarray.tolist(np.transpose(A)))\n",
    "    h = matrix(np.ndarray.tolist(B))\n",
    "    weights = np.zeros(m + k + 1)\n",
    "    for i in xrange(k):\n",
    "        weights[m + i + 1] = 1.0 / (stdevs[i] ** 2)\n",
    "    P = matrix(np.ndarray.tolist(np.diag(weights)))\n",
    "    q = matrix(np.ndarray.tolist(np.zeros(m + k + 1)))\n",
    "    # print B\n",
    "    # print C\n",
    "    #sol = solvers.lp(matrix(np.ndarray.tolist(C)), matrix(np.ndarray.tolist(A)), matrix(np.ndarray.tolist(B)))\n",
    "    sol = solvers.qp(P, q, G, h)\n",
    "    #print np.dot(C, np.asarray(sol['x']))\n",
    "    return sol['x']"
   ]
  },
  {
   "cell_type": "code",
   "execution_count": 3,
   "metadata": {
    "collapsed": true
   },
   "outputs": [],
   "source": [
    "# normalized objectives by empirical stdevs\n",
    "# TODO: some of the weights are negative...??\n",
    "def constrained_experiment_histog(moments, stdevs, m, limit):\n",
    "    k = len(moments)\n",
    "    from cvxopt import matrix, solvers\n",
    "    A = np.zeros((2 * m + 2 * k + 4, m + k + 1))\n",
    "    B = np.zeros(2 * m + 2 * k + 4)\n",
    "    C = np.zeros(m + k + 1)\n",
    "    # set C (optimization)\n",
    "    for i in xrange(m + 1, m + k + 1):\n",
    "        C[i] = 1.0\n",
    "    # set B (constraints)\n",
    "    B[0] = 1.0\n",
    "    B[1] = -1.0\n",
    "    for i in xrange(m + 1):\n",
    "        B[m + 3 + i] = limit\n",
    "    for i in xrange(k):\n",
    "        B[(2 * m) + 4 + (2 * i)] = moments[i] / stdevs[i]\n",
    "        B[(2 * m) + 4 + (2 * i) + 1] = -1.0 * moments[i] / stdevs[i]\n",
    "    # set A (linear coefficients)\n",
    "    for i in xrange(m + 1):\n",
    "        A[0][i] = 1.0\n",
    "        A[1][i] = -1.0\n",
    "        A[2 + i][i] = -1.0\n",
    "        A[m + 3 + i][i] = 1.0\n",
    "    for j in xrange(k):\n",
    "        A[(2 * m) + 4 + (2 * j)][m + 1 + j] = -1.0\n",
    "        A[(2 * m) + 4 + (2 * j) + 1][m + 1 + j] = -1.0\n",
    "        for i in xrange(m + 1):\n",
    "            A[(2 * m) + 4 + (2 * j)][i] = (((float(i) / float(m))) ** (j + 1)) / stdevs[j]\n",
    "            A[(2 * m) + 4 + (2 * j) + 1][i] = (-1.0 * ((float(i) / float(m))) ** (j + 1)) / stdevs[j]\n",
    "    # print A\n",
    "    A = np.transpose(A)\n",
    "    # print B\n",
    "    # print C\n",
    "    sol = solvers.lp(matrix(np.ndarray.tolist(C)), matrix(np.ndarray.tolist(A)), matrix(np.ndarray.tolist(B)))\n",
    "    print np.dot(C, np.asarray(sol['x']))\n",
    "    return sol['x']"
   ]
  },
  {
   "cell_type": "code",
   "execution_count": 4,
   "metadata": {
    "collapsed": true
   },
   "outputs": [],
   "source": [
    "def moments_stdevs(samples, k):\n",
    "    n, s = samples.shape\n",
    "    counts = np.sum(samples, axis=1)\n",
    "    mom_dist = [np.asarray([float(comb(counts[j], i)) / float(comb(s, i)) for j in xrange(n)]) for i in xrange(1, k + 1)]\n",
    "    moments = [np.mean(mom) for mom in mom_dist]\n",
    "    stdevs = [np.std(mom) / math.sqrt(n) for mom in mom_dist]\n",
    "    return moments, stdevs\n",
    "\n",
    "def moments_stdevs_stacked(samples, k):\n",
    "    moments = []\n",
    "    stdevs = []\n",
    "    for i in xrange(1, k + 1):\n",
    "        mom_dist = np.asarray([float(comb(row[1], i)) / float(comb(row[0], i)) for row in samples if (row[0] >= i)])\n",
    "        moments.append(np.mean(mom_dist))\n",
    "        stdevs.append(np.std(mom_dist) / math.sqrt(len(mom_dist)))\n",
    "    return moments, stdevs\n",
    "\n",
    "def cdf(mesh):\n",
    "    return np.cumsum(mesh)\n",
    "\n",
    "def cdf_distro(sample_ps, granularity):\n",
    "    ss = sorted(sample_ps)\n",
    "    cdf = np.zeros(granularity + 1)\n",
    "    for p in ss:\n",
    "        cdf[int(p * granularity) + 1 : granularity + 1] += np.ones(granularity - int(p * granularity))\n",
    "    cdf /= float(len(ss))\n",
    "    return cdf\n",
    "\n",
    "def pdf_distro(sample_ps, granularity):\n",
    "    ss = sorted(sample_ps)\n",
    "    cdf = np.zeros(granularity + 1)\n",
    "    for p in ss:\n",
    "        cdf[int(p * granularity) + 1] += 1\n",
    "    cdf /= float(len(ss))\n",
    "    return cdf\n",
    "\n",
    "def isint(s):\n",
    "    try: \n",
    "        int(s)\n",
    "        return True\n",
    "    except ValueError:\n",
    "        return False\n",
    "    \n",
    "def cdf_dist(c0, c1):\n",
    "    return np.sum(np.absolute(c0 - c1)) / float(len(c0) - 1)"
   ]
  },
  {
   "cell_type": "markdown",
   "metadata": {},
   "source": [
    "# Flight data processing"
   ]
  },
  {
   "cell_type": "code",
   "execution_count": 5,
   "metadata": {
    "collapsed": false
   },
   "outputs": [],
   "source": [
    "import numpy as np\n",
    "flights = np.loadtxt(\"Flights/flights.csv\", skiprows=1, delimiter=',', dtype='str')"
   ]
  },
  {
   "cell_type": "code",
   "execution_count": 6,
   "metadata": {
    "collapsed": false
   },
   "outputs": [],
   "source": [
    "flight_info = {}\n",
    "for row in flights:\n",
    "    identifier = (row[4], row[5], row[7], row[8])\n",
    "    if isint(row[11]) and isint(row[22]):\n",
    "        if identifier not in flight_info:\n",
    "            flight_info[identifier] = [[int(row[11]), int(row[22])]]\n",
    "        else:\n",
    "            flight_info[identifier].append([int(row[11]), int(row[22])])"
   ]
  },
  {
   "cell_type": "code",
   "execution_count": 7,
   "metadata": {
    "collapsed": false
   },
   "outputs": [],
   "source": [
    "lengths = [len(flight_info[key]) for key in flight_info.keys()]\n",
    "flight_info_filter = {key: flight_info[key] for key in flight_info if (len(flight_info[key]) > 50)}"
   ]
  },
  {
   "cell_type": "code",
   "execution_count": 8,
   "metadata": {
    "collapsed": false
   },
   "outputs": [],
   "source": [
    "agg_flight_info = {}\n",
    "for row in flights:\n",
    "    identifier = (row[4], row[5])\n",
    "    if isint(row[11]) and isint(row[22]):\n",
    "        if identifier not in agg_flight_info:\n",
    "            agg_flight_info[identifier] = [(int(row[11]), int(row[22]))]\n",
    "        else:\n",
    "            agg_flight_info[identifier].append((int(row[11]), int(row[22])))"
   ]
  },
  {
   "cell_type": "code",
   "execution_count": 9,
   "metadata": {
    "collapsed": false
   },
   "outputs": [],
   "source": [
    "agg_lengths = [len(agg_flight_info[key]) for key in agg_flight_info.keys()]"
   ]
  },
  {
   "cell_type": "markdown",
   "metadata": {},
   "source": [
    "# Flight experiment"
   ]
  },
  {
   "cell_type": "code",
   "execution_count": 10,
   "metadata": {
    "collapsed": false
   },
   "outputs": [],
   "source": [
    "# degrees of freedom:\n",
    "# 1. threshold 2. sample size 3. number of moments taken\n",
    "threshold = 15\n",
    "def threshold_eval(x):\n",
    "    return int(x >= threshold)\n",
    "\n",
    "npte = np.vectorize(threshold_eval)\n",
    "ground_truth = {key : np.mean(npte(np.asarray(flight_info_filter[key])), axis=0) for key in flight_info_filter}"
   ]
  },
  {
   "cell_type": "code",
   "execution_count": 11,
   "metadata": {
    "collapsed": true
   },
   "outputs": [],
   "source": [
    "ground_truth_departure_ps = [ground_truth[key][0] for key in ground_truth]\n",
    "ground_truth_arrival_ps = [ground_truth[key][1] for key in ground_truth]"
   ]
  },
  {
   "cell_type": "code",
   "execution_count": 12,
   "metadata": {
    "collapsed": false
   },
   "outputs": [],
   "source": [
    "flight_info_filter_samples = {key : npte(np.asarray(flight_info_filter[key])[np.random.randint(len(flight_info_filter[key]), size=10)]) for key in flight_info_filter}\n",
    "names = ground_truth.keys()\n",
    "stacked_samples_departure = np.asarray([[10, np.sum(flight_info_filter_samples[key], axis=0)[0]] for key in names])\n",
    "departure_sample_empirical_p = np.asarray([(float(row[1]) / float(row[0])) for row in stacked_samples_departure])\n",
    "stacked_samples_arrival = np.asarray([[10, np.sum(flight_info_filter_samples[key], axis=0)[1]] for key in names])\n",
    "arrival_sample_empirical_p = np.asarray([(float(row[1]) / float(row[0])) for row in stacked_samples_arrival])"
   ]
  },
  {
   "cell_type": "code",
   "execution_count": 14,
   "metadata": {
    "collapsed": false
   },
   "outputs": [
    {
     "name": "stdout",
     "output_type": "stream",
     "text": [
      "iteration 0\n",
      "iteration 1\n",
      "iteration 2\n",
      "iteration 3\n",
      "iteration 4\n",
      "iteration 5\n",
      "iteration 6\n",
      "iteration 7\n",
      "iteration 8\n",
      "iteration 9\n",
      "0.00585565653208\n",
      "0.0451009103196\n"
     ]
    },
    {
     "data": {
      "image/png": "[encoded data removed]",
      "text/plain": [
       "<matplotlib.figure.Figure at 0x10ac81d90>"
      ]
     },
     "metadata": {},
     "output_type": "display_data"
    }
   ],
   "source": [
    "# qp version\n",
    "n = len(stacked_samples_departure)\n",
    "total_cdf = np.zeros((2001, 1))\n",
    "for i in xrange(10):\n",
    "    print \"iteration \" + str(i)\n",
    "    m, s = moments_stdevs_stacked(stacked_samples_departure[np.random.randint(n, size=n/4)], 6)\n",
    "    nonzero = len(m)\n",
    "    if 0.0 in m:\n",
    "        nonzero = m.index(0.0)\n",
    "    x = experiment_histog(m[:nonzero], s[:nonzero], 2000)\n",
    "    total_cdf += np.asarray(x[:2001])\n",
    "total_cdf /= 10.0\n",
    "y_mesh = cdf(total_cdf)\n",
    "\n",
    "x_mesh = np.linspace(0, 1, 2001)\n",
    "\n",
    "axes = plt.gca()\n",
    "axes.set_ylim([0.0, 1.0])\n",
    "plt.plot(x_mesh, y_mesh)\n",
    "plt.plot(x_mesh, cdf_distro(ground_truth_departure_ps, 2000))\n",
    "plt.plot(x_mesh, cdf_distro(departure_sample_empirical_p, 2000))\n",
    "print cdf_dist(y_mesh, cdf_distro(ground_truth_departure_ps, 2000))\n",
    "print cdf_dist(cdf_distro(departure_sample_empirical_p, 2000), cdf_distro(ground_truth_departure_ps, 2000))"
   ]
  },
  {
   "cell_type": "code",
   "execution_count": 15,
   "metadata": {
    "collapsed": false
   },
   "outputs": [
    {
     "name": "stdout",
     "output_type": "stream",
     "text": [
      "iteration 0\n",
      "iteration 1\n",
      "iteration 2\n",
      "iteration 3\n",
      "iteration 4\n",
      "iteration 5\n",
      "iteration 6\n",
      "iteration 7\n",
      "iteration 8\n",
      "iteration 9\n",
      "0.0108598576002\n",
      "0.0451009103196\n"
     ]
    },
    {
     "data": {
      "image/png": "[encoded data removed]",
      "text/plain": [
       "<matplotlib.figure.Figure at 0x104553a90>"
      ]
     },
     "metadata": {},
     "output_type": "display_data"
    }
   ],
   "source": [
    "# qp version\n",
    "n = len(stacked_samples_departure)\n",
    "total_cdf = np.zeros((2001, 1))\n",
    "for i in xrange(10):\n",
    "    print \"iteration \" + str(i)\n",
    "    m, s = moments_stdevs_stacked(stacked_samples_departure[np.random.randint(n, size=n/4)], 10)\n",
    "    nonzero = len(m)\n",
    "    if 0.0 in m:\n",
    "        nonzero = m.index(0.0)\n",
    "    x = experiment_histog(m[:nonzero], s[:nonzero], 2000)\n",
    "    total_cdf += np.asarray(x[:2001])\n",
    "total_cdf /= 10.0\n",
    "y_mesh = cdf(total_cdf)\n",
    "\n",
    "x_mesh = np.linspace(0, 1, 2001)\n",
    "\n",
    "axes = plt.gca()\n",
    "axes.set_ylim([0.0, 1.0])\n",
    "plt.plot(x_mesh, y_mesh)\n",
    "plt.plot(x_mesh, cdf_distro(ground_truth_departure_ps, 2000))\n",
    "plt.plot(x_mesh, cdf_distro(departure_sample_empirical_p, 2000))\n",
    "print cdf_dist(y_mesh, cdf_distro(ground_truth_departure_ps, 2000))\n",
    "print cdf_dist(cdf_distro(departure_sample_empirical_p, 2000), cdf_distro(ground_truth_departure_ps, 2000))"
   ]
  },
  {
   "cell_type": "code",
   "execution_count": null,
   "metadata": {
    "collapsed": true
   },
   "outputs": [],
   "source": []
  }
 ],
 "metadata": {
  "anaconda-cloud": {},
  "kernelspec": {
   "display_name": "Python [conda root]",
   "language": "python",
   "name": "conda-root-py"
  },
  "language_info": {
   "codemirror_mode": {
    "name": "ipython",
    "version": 2
   },
   "file_extension": ".py",
   "mimetype": "text/x-python",
   "name": "python",
   "nbconvert_exporter": "python",
   "pygments_lexer": "ipython2",
   "version": "2.7.12"
  }
 },
 "nbformat": 4,
 "nbformat_minor": 1
}
