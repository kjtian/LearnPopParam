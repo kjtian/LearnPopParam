{
 "cells": [
  {
   "cell_type": "markdown",
   "metadata": {},
   "source": [
    "# Preliminaries"
   ]
  },
  {
   "cell_type": "code",
   "execution_count": 9,
   "metadata": {
    "collapsed": true
   },
   "outputs": [],
   "source": [
    "from dbfread import DBF\n",
    "from gen_recover import *\n",
    "import matplotlib.pyplot as plt\n",
    "import math\n",
    "%matplotlib inline\n",
    "import numpy as np"
   ]
  },
  {
   "cell_type": "code",
   "execution_count": 2,
   "metadata": {
    "collapsed": false
   },
   "outputs": [],
   "source": [
    "# normalized objectives by empirical stdevs\n",
    "def experiment_histog(moments, stdevs, m):\n",
    "    k = len(moments)\n",
    "    from cvxopt import matrix, solvers\n",
    "    solvers.options['show_progress'] = False\n",
    "    A = np.zeros((m + 2 * k + 3, m + k + 1))\n",
    "    B = np.zeros(m + 2 * k + 3)\n",
    "    C = np.zeros(m + k + 1)\n",
    "    # set C (optimization)\n",
    "    for i in xrange(m + 1, m + k + 1):\n",
    "        C[i] = 1.0\n",
    "    # set B (constraints)\n",
    "    B[0] = 1.0\n",
    "    B[1] = -1.0\n",
    "    for i in xrange(k):\n",
    "        B[m + 3 + (2 * i)] = moments[i]\n",
    "        B[m + 3 + (2 * i) + 1] = -1.0 * moments[i]\n",
    "    # set A (linear coefficients)\n",
    "    for i in xrange(m + 1):\n",
    "        A[0][i] = 1.0\n",
    "        A[1][i] = -1.0\n",
    "        A[2 + i][i] = -1.0\n",
    "\n",
    "    for j in xrange(k):\n",
    "        A[m + 3 + (2 * j)][m + 1 + j] = -1.0\n",
    "        A[m + 3 + (2 * j) + 1][m + 1 + j] = -1.0\n",
    "        for i in xrange(m + 1):\n",
    "            A[m + 3 + (2 * j)][i] = (((float(i) / float(m))) ** (j + 1))\n",
    "            A[m + 3 + (2 * j) + 1][i] = (-1.0 * ((float(i) / float(m))) ** (j + 1))\n",
    "    # print A\n",
    "    G = matrix(np.ndarray.tolist(np.transpose(A)))\n",
    "    h = matrix(np.ndarray.tolist(B))\n",
    "    weights = np.zeros(m + k + 1)\n",
    "    for i in xrange(k):\n",
    "        weights[m + i + 1] = 1.0 / (stdevs[i] ** 2)\n",
    "    P = matrix(np.ndarray.tolist(np.diag(weights)))\n",
    "    q = matrix(np.ndarray.tolist(np.zeros(m + k + 1)))\n",
    "    # print B\n",
    "    # print C\n",
    "    #sol = solvers.lp(matrix(np.ndarray.tolist(C)), matrix(np.ndarray.tolist(A)), matrix(np.ndarray.tolist(B)))\n",
    "    sol = solvers.qp(P, q, G, h)\n",
    "    #print np.dot(C, np.asarray(sol['x']))\n",
    "    return sol['x']"
   ]
  },
  {
   "cell_type": "code",
   "execution_count": 3,
   "metadata": {
    "collapsed": true
   },
   "outputs": [],
   "source": [
    "def moments_stdevs(samples, k):\n",
    "    n, s = samples.shape\n",
    "    counts = np.sum(samples, axis=1)\n",
    "    mom_dist = [np.asarray([float(comb(counts[j], i)) / float(comb(s, i)) for j in xrange(n)]) for i in xrange(1, k + 1)]\n",
    "    moments = [np.mean(mom) for mom in mom_dist]\n",
    "    stdevs = [np.std(mom) / math.sqrt(n) for mom in mom_dist]\n",
    "    return moments, stdevs\n",
    "\n",
    "def moments_stdevs_stacked(samples, k):\n",
    "    moments = []\n",
    "    stdevs = []\n",
    "    for i in xrange(1, k + 1):\n",
    "        mom_dist = np.asarray([float(comb(row[1], i)) / float(comb(row[0], i)) for row in samples if (row[0] >= i)])\n",
    "        moments.append(np.mean(mom_dist))\n",
    "        stdevs.append(np.std(mom_dist) / math.sqrt(len(mom_dist)))\n",
    "    return moments, stdevs\n",
    "\n",
    "def cdf(mesh):\n",
    "    return np.cumsum(mesh)\n",
    "\n",
    "def cdf_distro(sample_ps, granularity):\n",
    "    ss = sorted(sample_ps)\n",
    "    cdf = np.zeros(granularity + 1)\n",
    "    for p in ss:\n",
    "        cdf[int(p * granularity) + 1 : granularity + 1] += np.ones(granularity - int(p * granularity))\n",
    "    cdf /= float(len(ss))\n",
    "    return cdf"
   ]
  },
  {
   "cell_type": "markdown",
   "metadata": {},
   "source": [
    "# Load data, 1976 - 2004"
   ]
  },
  {
   "cell_type": "code",
   "execution_count": 14,
   "metadata": {
    "collapsed": true
   },
   "outputs": [],
   "source": [
    "county_dict = {}\n",
    "\n",
    "for i in xrange(7):\n",
    "    year = 1976 + (4 * i)\n",
    "    year_data = np.loadtxt(\"Elections/County/\" + str(year) + \"-\" + str(year + 4) + \"/ERBIG01\" + str(chr(65 + i)) + \".CSV\", skiprows=2, delimiter=',', dtype='str')\n",
    "    for row in year_data:\n",
    "        if row[0][1] == 'C':\n",
    "            name = row[6].lower()[1:-1]\n",
    "            state = row[4].lower()[1:-1]\n",
    "            dwin = int(int(row[8]) > int(row[9]))\n",
    "            if (name, state) in county_dict:\n",
    "                county_dict[(name, state)] += np.asarray([1, dwin])\n",
    "            else:\n",
    "                county_dict[(name, state)] = np.asarray([1, dwin])\n",
    "\n",
    "year_data = np.loadtxt(\"Elections/County/2000-2004/ERBIG01G.CSV\", skiprows=2, delimiter=',', dtype='str')\n",
    "for row in year_data:\n",
    "    if row[0][1] == 'C':\n",
    "        name = row[6].lower()[1:-1]\n",
    "        state = row[4].lower()[1:-1]\n",
    "        dwin = int(int(row[30]) > int(row[31]))\n",
    "        if (name, state) in county_dict:\n",
    "            county_dict[(name, state)] += np.asarray([1, dwin])\n",
    "        else:\n",
    "            county_dict[(name, state)] = np.asarray([1, dwin])\n",
    "stacked_county_data = np.asarray([county_dict[key] for key in county_dict])"
   ]
  },
  {
   "cell_type": "markdown",
   "metadata": {},
   "source": [
    "# Experiment"
   ]
  },
  {
   "cell_type": "code",
   "execution_count": 21,
   "metadata": {
    "collapsed": false
   },
   "outputs": [
    {
     "name": "stdout",
     "output_type": "stream",
     "text": [
      "iteration 0\n",
      "iteration 1\n",
      "iteration 2\n",
      "iteration 3\n",
      "iteration 4\n",
      "iteration 5\n",
      "iteration 6\n",
      "iteration 7\n",
      "iteration 8\n",
      "iteration 9\n",
      "iteration 10\n",
      "iteration 11\n",
      "iteration 12\n",
      "iteration 13\n",
      "iteration 14\n",
      "iteration 15\n",
      "iteration 16\n",
      "iteration 17\n",
      "iteration 18\n",
      "iteration 19\n"
     ]
    },
    {
     "data": {
      "text/plain": [
       "[<matplotlib.lines.Line2D at 0x10c1a42d0>]"
      ]
     },
     "execution_count": 21,
     "metadata": {},
     "output_type": "execute_result"
    },
    {
     "data": {
      "image/png": "[encoded data removed]",
      "text/plain": [
       "<matplotlib.figure.Figure at 0x104772490>"
      ]
     },
     "metadata": {},
     "output_type": "display_data"
    }
   ],
   "source": [
    "total_cdf = np.zeros((2001, 1))\n",
    "n = len(stacked_county_data)\n",
    "for i in xrange(20):\n",
    "    print \"iteration \" + str(i)\n",
    "    #subsample = stacked_county_data[np.random.randint(n, size=n/10)]\n",
    "    #m, s = moments_stdevs_stacked(subsample, 8)\n",
    "    m, s = moments_stdevs_stacked(stacked_county_data[i * (n / 20) : (i + 1) * (n / 20)], 8)\n",
    "    nonzero = len(m)\n",
    "    if 0.0 in m:\n",
    "        nonzero = m.index(0.0)\n",
    "    x = experiment_histog(m[:nonzero], s[:nonzero], 2000)\n",
    "    total_cdf += np.asarray(x[:2001])\n",
    "total_cdf /= 20.0\n",
    "x_mesh = np.linspace(0, 1, 2001)\n",
    "y_mesh = cdf(total_cdf)\n",
    "empirical_ps = np.asarray([(float(row[1]) / float(row[0])) for row in stacked_county_data])\n",
    "axes = plt.gca()\n",
    "axes.set_ylim([0.0, 1.0])\n",
    "plt.plot(x_mesh, y_mesh, color='blue')\n",
    "plt.plot(x_mesh, cdf_distro(empirical_ps, 2000), color='red')"
   ]
  },
  {
   "cell_type": "code",
   "execution_count": 7,
   "metadata": {
    "collapsed": false
   },
   "outputs": [
    {
     "ename": "NameError",
     "evalue": "name 'big_county_dict' is not defined",
     "output_type": "error",
     "traceback": [
      "\u001b[0;31m---------------------------------------------------------------------------\u001b[0m",
      "\u001b[0;31mNameError\u001b[0m                                 Traceback (most recent call last)",
      "\u001b[0;32m<ipython-input-7-9ca188d27176>\u001b[0m in \u001b[0;36m<module>\u001b[0;34m()\u001b[0m\n\u001b[0;32m----> 1\u001b[0;31m \u001b[0mstacked_county_data_big\u001b[0m \u001b[0;34m=\u001b[0m \u001b[0mnp\u001b[0m\u001b[0;34m.\u001b[0m\u001b[0masarray\u001b[0m\u001b[0;34m(\u001b[0m\u001b[0;34m[\u001b[0m\u001b[0mbig_county_dict\u001b[0m\u001b[0;34m[\u001b[0m\u001b[0mkey\u001b[0m\u001b[0;34m]\u001b[0m \u001b[0;32mfor\u001b[0m \u001b[0mkey\u001b[0m \u001b[0;32min\u001b[0m \u001b[0mbig_county_dict\u001b[0m\u001b[0;34m]\u001b[0m\u001b[0;34m)\u001b[0m\u001b[0;34m\u001b[0m\u001b[0m\n\u001b[0m\u001b[1;32m      2\u001b[0m \u001b[0mm\u001b[0m\u001b[0;34m,\u001b[0m \u001b[0ms\u001b[0m \u001b[0;34m=\u001b[0m \u001b[0mmoments_stdevs_stacked\u001b[0m\u001b[0;34m(\u001b[0m\u001b[0mstacked_county_data_big\u001b[0m\u001b[0;34m,\u001b[0m \u001b[0;36m11\u001b[0m\u001b[0;34m)\u001b[0m\u001b[0;34m\u001b[0m\u001b[0m\n\u001b[1;32m      3\u001b[0m \u001b[0mx\u001b[0m \u001b[0;34m=\u001b[0m \u001b[0mexperiment_histog\u001b[0m\u001b[0;34m(\u001b[0m\u001b[0mm\u001b[0m\u001b[0;34m,\u001b[0m \u001b[0ms\u001b[0m\u001b[0;34m,\u001b[0m \u001b[0;36m2000\u001b[0m\u001b[0;34m)\u001b[0m\u001b[0;34m\u001b[0m\u001b[0m\n\u001b[1;32m      4\u001b[0m \u001b[0mx_mesh\u001b[0m \u001b[0;34m=\u001b[0m \u001b[0mnp\u001b[0m\u001b[0;34m.\u001b[0m\u001b[0mlinspace\u001b[0m\u001b[0;34m(\u001b[0m\u001b[0;36m0\u001b[0m\u001b[0;34m,\u001b[0m \u001b[0;36m1\u001b[0m\u001b[0;34m,\u001b[0m \u001b[0;36m2001\u001b[0m\u001b[0;34m)\u001b[0m\u001b[0;34m\u001b[0m\u001b[0m\n\u001b[1;32m      5\u001b[0m \u001b[0;31m#ss = stdevs(x_mesh, list(x[:2001]), 20)\u001b[0m\u001b[0;34m\u001b[0m\u001b[0;34m\u001b[0m\u001b[0m\n",
      "\u001b[0;31mNameError\u001b[0m: name 'big_county_dict' is not defined"
     ]
    }
   ],
   "source": [
    "stacked_county_data_big = np.asarray([big_county_dict[key] for key in big_county_dict])\n",
    "m, s = moments_stdevs_stacked(stacked_county_data_big, 11)\n",
    "x = experiment_histog(m, s, 2000)\n",
    "x_mesh = np.linspace(0, 1, 2001)\n",
    "#ss = stdevs(x_mesh, list(x[:2001]), 20)\n",
    "\"\"\"\n",
    "x = experiment_histog(m, ss, 2000)\n",
    "ss = stdevs(x_mesh, list(x[:2001]), 20)\n",
    "x = experiment_histog(m, ss, 2000)\n",
    "ss = stdevs(x_mesh, list(x[:2001]), 20)\n",
    "x = experiment_histog(m, ss, 2000)\n",
    "ss = stdevs(x_mesh, list(x[:2001]), 20)\n",
    "\"\"\"\n",
    "#x = experiment_histog(m, ss, 2000)\n",
    "y_mesh = cdf(x[:2001])\n",
    "plt.plot(x_mesh, y_mesh)"
   ]
  },
  {
   "cell_type": "code",
   "execution_count": null,
   "metadata": {
    "collapsed": true
   },
   "outputs": [],
   "source": []
  }
 ],
 "metadata": {
  "anaconda-cloud": {},
  "kernelspec": {
   "display_name": "Python [conda root]",
   "language": "python",
   "name": "conda-root-py"
  },
  "language_info": {
   "codemirror_mode": {
    "name": "ipython",
    "version": 2
   },
   "file_extension": ".py",
   "mimetype": "text/x-python",
   "name": "python",
   "nbconvert_exporter": "python",
   "pygments_lexer": "ipython2",
   "version": "2.7.12"
  }
 },
 "nbformat": 4,
 "nbformat_minor": 1
}
